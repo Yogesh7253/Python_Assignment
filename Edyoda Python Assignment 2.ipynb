{
 "cells": [
  {
   "cell_type": "code",
   "execution_count": 53,
   "id": "9fccf73f",
   "metadata": {},
   "outputs": [
    {
     "name": "stdout",
     "output_type": "stream",
     "text": [
      "Enter the number of tuples you want to insert in a list : 5\n",
      "2\n",
      "5\n",
      "1\n",
      "2\n",
      "4\n",
      "4\n",
      "2\n",
      "3\n",
      "2\n",
      "1\n",
      "Your input list is : [(2, 5), (1, 2), (4, 4), (2, 3), (2, 1)]\n",
      "Sorted list based on last element of tuples is :  [(2, 1), (1, 2), (2, 3), (4, 4), (2, 5)]\n"
     ]
    }
   ],
   "source": [
    "no = int(input(\"Enter the number of tuples you want to insert in a list : \"))\n",
    "def tup():\n",
    "    lst1 = []\n",
    "    for i in range(2):\n",
    "        ele = int(input())\n",
    "        lst1.append(ele)\n",
    "    return tuple(lst1)\n",
    "lst2 = []\n",
    "for i in range(no):\n",
    "    tup2 = tup()\n",
    "    lst2.append(tup2)\n",
    "print(f\"Your input list is : {lst2}\")\n",
    "print(f\"Sorted list based on last element of tuples is :  {sorted(lst2,key=last)}\")\n",
    "\n",
    "\n",
    "\n",
    "\n",
    " "
   ]
  },
  {
   "cell_type": "code",
   "execution_count": 63,
   "id": "38423cfa",
   "metadata": {},
   "outputs": [
    {
     "name": "stdout",
     "output_type": "stream",
     "text": [
      "{'a': 97, 'b': 98, 'c': 99, 'd': 100, 'e': 101, 'f': 102, 'g': 103, 'h': 104, 'i': 105, 'j': 106, 'k': 107, 'l': 108, 'm': 109, 'n': 110, 'o': 111, 'p': 112, 'q': 113, 'r': 114, 's': 115, 't': 116, 'u': 117, 'v': 118, 'w': 119, 'x': 120, 'y': 121, 'z': 122}\n"
     ]
    }
   ],
   "source": [
    "dict1 = {'a':ord('a'),'b':ord('b'),'c':ord('c'),'d':ord('d'),'e':ord('e'),'f':ord('f'),'g':ord('g'),'h':ord('h'),'i':ord('i'),'j':ord('j'),'k':ord('k'),'l':ord('l'),'m':ord('m'),'n':ord('n'),'o':ord('o'),'p':ord('p'),'q':ord('q'),'r':ord('r'),'s':ord('s'),'t':ord('t'),'u':ord('u'),'v':ord('v'),'w':ord('w'),'x':ord('x'),'y':ord('y'),'z':ord('z')}\n",
    "print(dict1)"
   ]
  }
 ],
 "metadata": {
  "kernelspec": {
   "display_name": "Python 3 (ipykernel)",
   "language": "python",
   "name": "python3"
  },
  "language_info": {
   "codemirror_mode": {
    "name": "ipython",
    "version": 3
   },
   "file_extension": ".py",
   "mimetype": "text/x-python",
   "name": "python",
   "nbconvert_exporter": "python",
   "pygments_lexer": "ipython3",
   "version": "3.9.13"
  }
 },
 "nbformat": 4,
 "nbformat_minor": 5
}
