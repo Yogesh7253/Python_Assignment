{
 "cells": [
  {
   "cell_type": "markdown",
   "id": "04741569",
   "metadata": {},
   "source": [
    "# Square Numbers and Return Their Sum"
   ]
  },
  {
   "cell_type": "code",
   "execution_count": 1,
   "id": "a65400d9",
   "metadata": {},
   "outputs": [
    {
     "data": {
      "text/plain": [
       "35"
      ]
     },
     "execution_count": 1,
     "metadata": {},
     "output_type": "execute_result"
    }
   ],
   "source": [
    "class Point:\n",
    "\n",
    "    def __init__(self,x,y,z):\n",
    "        self.x = x\n",
    "        self.y = y\n",
    "        self.z = z\n",
    "\n",
    "    def sqSum(self):\n",
    "         return self.x**2 +self. y**2 + self.z**2\n",
    "    \n",
    "obj = Point(1,3,5)\n",
    "obj.sqSum()"
   ]
  },
  {
   "cell_type": "code",
   "execution_count": 23,
   "id": "143dec39",
   "metadata": {},
   "outputs": [
    {
     "name": "stdout",
     "output_type": "stream",
     "text": [
      "Enter the 1st number : 1\n",
      "Enter the 2nd number : 3\n",
      "Enter the 3rd number : 5\n"
     ]
    },
    {
     "data": {
      "text/plain": [
       "35"
      ]
     },
     "execution_count": 23,
     "metadata": {},
     "output_type": "execute_result"
    }
   ],
   "source": [
    "class Point:\n",
    "\n",
    "    def __init__(self):\n",
    "        self.x = int(input(\"Enter the 1st number : \"))\n",
    "        self.y = int(input(\"Enter the 2nd number : \"))\n",
    "        self.z = int(input(\"Enter the 3rd number : \"))\n",
    "\n",
    "    def sqSum(self):\n",
    "         return self.x**2 +self. y**2 + self.z**2\n",
    "    \n",
    "obj = Point()\n",
    "obj.sqSum()"
   ]
  },
  {
   "cell_type": "markdown",
   "id": "540d95bc",
   "metadata": {},
   "source": [
    "# Implement a Calculator Class"
   ]
  },
  {
   "cell_type": "code",
   "execution_count": 40,
   "id": "d8d05e7c",
   "metadata": {},
   "outputs": [
    {
     "name": "stdout",
     "output_type": "stream",
     "text": [
      "104\n",
      "84\n",
      "940\n",
      "9.4\n"
     ]
    }
   ],
   "source": [
    "class Calculator:\n",
    "    \n",
    "    def __init__(self,num1,num2):\n",
    "        self.num1 = num1\n",
    "        self.num2 = num2\n",
    "        \n",
    "    def add(self):\n",
    "        return self.num2 + self.num1\n",
    "    \n",
    "    def subtract(self):\n",
    "        return abs(self.num2 - self.num1)\n",
    "    \n",
    "    def multiply(self):\n",
    "        return self.num2 * self.num1\n",
    "    \n",
    "    def divide(self):\n",
    "        return self.num2 / self.num1\n",
    "    \n",
    "obj = Calculator(10,94)\n",
    "print(obj.add())\n",
    "print(obj.subtract())\n",
    "print(obj.multiply())\n",
    "print(obj.divide())"
   ]
  },
  {
   "cell_type": "code",
   "execution_count": 39,
   "id": "7f40cfa0",
   "metadata": {},
   "outputs": [
    {
     "name": "stdout",
     "output_type": "stream",
     "text": [
      "Enter the first number : 10\n",
      "Enter the second number : 94\n",
      "104\n",
      "84\n",
      "940\n",
      "9.4\n"
     ]
    }
   ],
   "source": [
    "class Calculator:\n",
    "    \n",
    "    def __init__(self):\n",
    "        self.num1 = int(input(\"Enter the first number : \"))\n",
    "        self.num2 = int(input(\"Enter the second number : \"))\n",
    "        \n",
    "    def add(self):\n",
    "        return self.num2 + self.num1\n",
    "    \n",
    "    def subtract(self):\n",
    "        return abs(self.num2 - self.num1)\n",
    "    \n",
    "    def multiply(self):\n",
    "        return self.num2 * self.num1\n",
    "    \n",
    "    def divide(self):\n",
    "        return self.num2 / self.num1\n",
    "    \n",
    "obj = Calculator()\n",
    "print(obj.add())\n",
    "print(obj.subtract())\n",
    "print(obj.multiply())\n",
    "print(obj.divide())"
   ]
  },
  {
   "cell_type": "markdown",
   "id": "ab6a07b8",
   "metadata": {},
   "source": [
    "# Implement the Complete Student Class"
   ]
  },
  {
   "cell_type": "code",
   "execution_count": 35,
   "id": "1ae1c6aa",
   "metadata": {},
   "outputs": [
    {
     "name": "stdout",
     "output_type": "stream",
     "text": [
      "Name : Yogesh \n",
      "Roll Number : 1\n"
     ]
    }
   ],
   "source": [
    "class Student:\n",
    "    \n",
    "    def setName(self,name):\n",
    "        self.__name = name \n",
    "    def getName(self):\n",
    "        return self.__name\n",
    "    def setRollNumber(self,rollnumber):\n",
    "        self.__rollnumber = rollnumber\n",
    "    def getRollNumber(self):\n",
    "        return self.__rollnumber\n",
    "    \n",
    "    def __str__(self):\n",
    "        return f\"Name : {self.__name} \\nRoll Number : {self.__rollnumber}\"\n",
    "\n",
    "\n",
    "obj = Student()\n",
    "obj.setName('Yogesh')\n",
    "obj.setRollNumber('1')\n",
    "obj.name = \"Bhardwaj\" # name is not changing as name is private.\n",
    "print(obj)\n",
    "\n"
   ]
  },
  {
   "cell_type": "markdown",
   "id": "c0363c15",
   "metadata": {},
   "source": [
    "# Implement a Banking Account"
   ]
  },
  {
   "cell_type": "code",
   "execution_count": 135,
   "id": "25505e62",
   "metadata": {},
   "outputs": [
    {
     "name": "stdout",
     "output_type": "stream",
     "text": [
      "Title : Ashish \n",
      "Balance : 5000 \n",
      "\n",
      "\n",
      "Title : Ashish \n",
      "Balance : 5000 \n",
      "InterestRate : 5\n"
     ]
    }
   ],
   "source": [
    "class Account:\n",
    "\n",
    "    def __init__(self,title=None, balance=0):\n",
    "        self.title = title\n",
    "        self.balance = balance\n",
    "\n",
    "    def __str__(self):\n",
    "        return f\"Title : {self.title} \\nBalance : {self.balance}\"\n",
    "    \n",
    "class SavingsAccount(Account):\n",
    "\n",
    "    def __init__(self,title=None, balance=0,interestRate = 0):\n",
    "        super().__init__(title,balance)\n",
    "        self.interestRate = interestRate\n",
    "        \n",
    "    def __str__(self):\n",
    "        return f\"Title : {self.title} \\nBalance : {self.balance} \\nInterestRate : {self.interestRate}\"\n",
    "    \n",
    "saving = Account(\"Ashish\",\"5000\")\n",
    "print(saving,\"\\n\\n\")\n",
    "    \n",
    "saving1 = SavingsAccount(\"Ashish\",\"5000\",\"5\")\n",
    "print(saving1)\n",
    "\n",
    "\n",
    "\n"
   ]
  },
  {
   "cell_type": "markdown",
   "id": "84e6e120",
   "metadata": {},
   "source": [
    "# Handling a Bank Account "
   ]
  },
  {
   "cell_type": "code",
   "execution_count": 124,
   "id": "29049488",
   "metadata": {},
   "outputs": [
    {
     "name": "stdout",
     "output_type": "stream",
     "text": [
      "2500\n",
      "1500\n",
      "100.0\n",
      "Title : Ashish \n",
      "Balance : 2000 \n",
      "Interest Rate : 5 \n",
      "\n",
      "Interest Amount :  100.0\n"
     ]
    }
   ],
   "source": [
    "class Account:\n",
    "    def __init__(self, title=None, balance=0):\n",
    "        self.title = title\n",
    "        self.balance = balance\n",
    "    \n",
    "    def withdrawal(self, amount):\n",
    "        self.balance = self.balance - amount\n",
    "        \n",
    "    def deposit(self, amount):\n",
    "        self.balance = self.balance + amount\n",
    "        \n",
    "    def getBalance(self):\n",
    "        return self.balance\n",
    "\n",
    "class SavingsAccount(Account):\n",
    "    def __init__(self, title=None, balance=0, interestRate=0):\n",
    "            super().__init__(title,balance)\n",
    "            self.interestRate = interestRate\n",
    "    \n",
    "    def __str__(self):\n",
    "        return f\"Title : {self.title} \\nBalance : {self.balance} \\nInterest Rate : {self.interestRate} \\n\"\n",
    "    \n",
    "    def interestAmount(self):\n",
    "         return (self.interestRate * self.balance) / 100\n",
    "        \n",
    "\n",
    "saving = SavingsAccount(balance = 2000)\n",
    "saving.deposit(500)\n",
    "print(saving.getBalance())\n",
    "\n",
    "saving = SavingsAccount(balance = 2000)\n",
    "saving.withdrawal(500)\n",
    "print(saving.getBalance())\n",
    "        \n",
    "saving = SavingsAccount(balance = 2000,interestRate=5)\n",
    "print(saving.interestAmount())\n",
    "\n",
    "demo1 = SavingsAccount(\"Ashish\", 2000, 5)   # initializing a SavingsAccount object\n",
    "print(demo1)\n",
    "print(\"Interest Amount : \",demo1.interestAmount())"
   ]
  }
 ],
 "metadata": {
  "kernelspec": {
   "display_name": "Python 3 (ipykernel)",
   "language": "python",
   "name": "python3"
  },
  "language_info": {
   "codemirror_mode": {
    "name": "ipython",
    "version": 3
   },
   "file_extension": ".py",
   "mimetype": "text/x-python",
   "name": "python",
   "nbconvert_exporter": "python",
   "pygments_lexer": "ipython3",
   "version": "3.9.13"
  }
 },
 "nbformat": 4,
 "nbformat_minor": 5
}
