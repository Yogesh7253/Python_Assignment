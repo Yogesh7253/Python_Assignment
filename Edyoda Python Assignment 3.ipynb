{
 "cells": [
  {
   "cell_type": "code",
   "execution_count": 22,
   "id": "e59ebb05",
   "metadata": {},
   "outputs": [
    {
     "name": "stdout",
     "output_type": "stream",
     "text": [
      "Enter the number of values you want to add : 5\n",
      "8\n",
      "2\n",
      "3\n",
      "0\n",
      "7\n"
     ]
    },
    {
     "data": {
      "text/plain": [
       "20"
      ]
     },
     "execution_count": 22,
     "metadata": {},
     "output_type": "execute_result"
    }
   ],
   "source": [
    "no = int(input(\"Enter the number of values you want to add : \"))\n",
    "lst = []\n",
    "for i in range(no):\n",
    "    ele = int(input())\n",
    "    lst.append(ele)\n",
    "\n",
    "def summation(num):\n",
    "    total = 0\n",
    "    for i in num:\n",
    "        total+=i\n",
    "    return total\n",
    "\n",
    "summation(lst)"
   ]
  },
  {
   "cell_type": "code",
   "execution_count": 25,
   "id": "181af190",
   "metadata": {},
   "outputs": [
    {
     "name": "stdout",
     "output_type": "stream",
     "text": [
      "1234abcd\n"
     ]
    },
    {
     "data": {
      "text/plain": [
       "'dcba4321'"
      ]
     },
     "execution_count": 25,
     "metadata": {},
     "output_type": "execute_result"
    }
   ],
   "source": [
    "string = input()\n",
    "def rev(stg):\n",
    "    str = ''\n",
    "    for i in stg:\n",
    "        str = i + str\n",
    "    return str\n",
    "rev(string)"
   ]
  },
  {
   "cell_type": "code",
   "execution_count": 63,
   "id": "dd101a51",
   "metadata": {},
   "outputs": [
    {
     "name": "stdout",
     "output_type": "stream",
     "text": [
      "The quick Brow Fox\n",
      "No. of upper case characters : 3\n",
      "No. of lower case characters : 12\n"
     ]
    }
   ],
   "source": [
    "def get_input():\n",
    "    word = input()\n",
    "    return word\n",
    "def cal(wor):\n",
    "    count1 = 0\n",
    "    count2 = 0\n",
    "    for i in wor:\n",
    "        low = i.islower()\n",
    "        high = i.isupper()\n",
    "        if high==True:\n",
    "            count1+=1\n",
    "        elif low==True:\n",
    "            count2+=1\n",
    "        \n",
    "    print(f\"No. of upper case characters : {count1}\")\n",
    "    print(f\"No. of lower case characters : {count2}\")\n",
    "\n",
    "cal(get_input())"
   ]
  }
 ],
 "metadata": {
  "kernelspec": {
   "display_name": "Python 3 (ipykernel)",
   "language": "python",
   "name": "python3"
  },
  "language_info": {
   "codemirror_mode": {
    "name": "ipython",
    "version": 3
   },
   "file_extension": ".py",
   "mimetype": "text/x-python",
   "name": "python",
   "nbconvert_exporter": "python",
   "pygments_lexer": "ipython3",
   "version": "3.9.13"
  }
 },
 "nbformat": 4,
 "nbformat_minor": 5
}
