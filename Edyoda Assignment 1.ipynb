{
 "cells": [
  {
   "cell_type": "markdown",
   "id": "7505b2c0",
   "metadata": {},
   "source": [
    "# FIBONACCI SERIES"
   ]
  },
  {
   "cell_type": "code",
   "execution_count": 1,
   "id": "c3c2b1e3",
   "metadata": {},
   "outputs": [
    {
     "name": "stdout",
     "output_type": "stream",
     "text": [
      "Enter the length to which you want to print Fibonacc Series : 10\n",
      "1\n",
      "1\n",
      "2\n",
      "3\n",
      "5\n",
      "8\n",
      "13\n",
      "21\n",
      "34\n"
     ]
    }
   ],
   "source": [
    "series = int(input(\"Enter the length to which you want to print Fibonacc Series : \"))\n",
    "no1=0\n",
    "no2=1\n",
    "result=0\n",
    "print(no2)\n",
    "for i in range(series-2):\n",
    "    result = no1 + no2\n",
    "    no1=no2\n",
    "    no2=result\n",
    "    print(result)\n",
    "\n",
    "    "
   ]
  },
  {
   "cell_type": "markdown",
   "id": "588b2b2e",
   "metadata": {},
   "source": [
    "# REVERSING A STRING METHOD 1"
   ]
  },
  {
   "cell_type": "code",
   "execution_count": 17,
   "id": "dd1a99aa",
   "metadata": {},
   "outputs": [
    {
     "name": "stdout",
     "output_type": "stream",
     "text": [
      "Enter the string : Yogesh\n",
      "hsegoY\n"
     ]
    }
   ],
   "source": [
    "text = input(\"Enter the string : \")\n",
    "str1=\"\"\n",
    "for i in text:\n",
    "    str1 = i + str1\n",
    "print(str1)\n"
   ]
  },
  {
   "cell_type": "markdown",
   "id": "78254bfa",
   "metadata": {},
   "source": [
    "# REVERSING A STRING METHOD 2"
   ]
  },
  {
   "cell_type": "code",
   "execution_count": 7,
   "id": "f0f93802",
   "metadata": {},
   "outputs": [
    {
     "name": "stdout",
     "output_type": "stream",
     "text": [
      "Enter the string : Yogesh\n",
      "hsegoY\n"
     ]
    }
   ],
   "source": [
    "text = input(\"Enter the string : \")\n",
    "text1 = text[::-1]\n",
    "print(text1)\n"
   ]
  },
  {
   "cell_type": "markdown",
   "id": "e35a3b8c",
   "metadata": {},
   "source": [
    "# COUNTING NUMBER OF ODD AND EVEN IN A SERIES OF INTERGERS"
   ]
  },
  {
   "cell_type": "code",
   "execution_count": 8,
   "id": "8cd36e35",
   "metadata": {},
   "outputs": [
    {
     "name": "stdout",
     "output_type": "stream",
     "text": [
      "Enter the number of values which user wants to input : 10\n",
      "4\n",
      "1\n",
      "9\n",
      "8\n",
      "5\n",
      "6\n",
      "12\n",
      "11\n",
      "17\n",
      "79\n",
      "Number of even numbers :  4\n",
      "Number of odd numbers :  6\n"
     ]
    }
   ],
   "source": [
    "lst = []\n",
    "no = int(input(\"Enter the number of values which user wants to input : \"))\n",
    "for i in range(no):\n",
    "    items = int(input())\n",
    "    lst.append(items)\n",
    "\n",
    "even=0\n",
    "odd=0\n",
    "\n",
    "for j in lst:\n",
    "    if j%2==0:\n",
    "        even+=1\n",
    "    else:\n",
    "        odd+=1\n",
    "print(\"Number of even numbers : \",even)\n",
    "print(\"Number of odd numbers : \",odd)\n"
   ]
  },
  {
   "cell_type": "code",
   "execution_count": null,
   "id": "4ec4998d",
   "metadata": {},
   "outputs": [],
   "source": []
  }
 ],
 "metadata": {
  "kernelspec": {
   "display_name": "Python 3 (ipykernel)",
   "language": "python",
   "name": "python3"
  },
  "language_info": {
   "codemirror_mode": {
    "name": "ipython",
    "version": 3
   },
   "file_extension": ".py",
   "mimetype": "text/x-python",
   "name": "python",
   "nbconvert_exporter": "python",
   "pygments_lexer": "ipython3",
   "version": "3.9.13"
  }
 },
 "nbformat": 4,
 "nbformat_minor": 5
}
